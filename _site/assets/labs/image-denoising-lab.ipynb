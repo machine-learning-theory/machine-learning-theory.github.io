{
 "cells": [
  {
   "cell_type": "markdown",
   "metadata": {},
   "source": [
    "# *Image Denoising* using Bivariate Monotone Regression^[My text editor, Cursor, used Gemini 2.0 Flash-Thinking to generate most of this code.]"
   ]
  },
  {
   "cell_type": "code",
   "execution_count": null,
   "metadata": {
    "vscode": {
     "languageId": "r"
    }
   },
   "outputs": [],
   "source": [
    "library(CVXR)\n",
    "\n",
    "monotone_denoise_2d = function(noisy_image) {\n",
    "  rows = nrow(noisy_image)\n",
    "  cols = ncol(noisy_image)\n",
    "\n",
    "  # Create the variable for the denoised image\n",
    "  denoised_image = Variable(dim(noisy_image))\n",
    "\n",
    "  # Define the objective function: minimize the sum of squared differences\n",
    "  objective = Minimize(sum_squares(denoised_image - noisy_image))\n",
    "\n",
    "  # Define the constraints: monotonicity\n",
    "  constraints = list()\n",
    "  for (r in 1:rows) {\n",
    "    for (c in 1:(cols - 1)) {\n",
    "      constraints = c(constraints, denoised_image[r, c] <= denoised_image[r, c + 1])\n",
    "    }\n",
    "  }\n",
    "  for (r in 1:(rows - 1)) {\n",
    "    for (c in 1:cols) {\n",
    "      constraints = c(constraints, denoised_image[r, c] <= denoised_image[r + 1, c])\n",
    "    }\n",
    "  }\n",
    "\n",
    "  # Formulate the problem\n",
    "  problem = Problem(objective, constraints)\n",
    "\n",
    "  # Solve the problem\n",
    "  result = solve(problem)\n",
    "  \n",
    "  result$getValue(denoised_image)\n",
    "}\n",
    "\n",
    "noisy_image = matrix(runif(30*30), nrow=30) + outer(seq(0, 1, length.out = 30), rep(0.5, 30))\n",
    "denoised_image_np = monotone_denoise_2d(noisy_image)"
   ]
  },
  {
   "cell_type": "code",
   "execution_count": null,
   "metadata": {
    "vscode": {
     "languageId": "r"
    }
   },
   "outputs": [],
   "source": [
    "show.image = function(image) {\n",
    "  df = as.data.frame.table(image)\n",
    "  colnames(df) = c(\"row\", \"col\", \"value\")\n",
    "  ggplot(df, aes(x = col, y = row, fill = value)) +\n",
    "    geom_raster() +\n",
    "    scale_fill_gradient(low = \"black\", high = \"white\") +\n",
    "    coord_equal() + guides(fill=FALSE)\n",
    "}\n",
    "\n",
    "show.image(noisy_image)\n",
    "show.image(denoised_image_np)"
   ]
  },
  {
   "cell_type": "code",
   "execution_count": null,
   "metadata": {
    "vscode": {
     "languageId": "r"
    }
   },
   "outputs": [],
   "source": [
    "library(jpeg)\n",
    "image_url = \"https://upload.wikimedia.org/wikipedia/commons/thumb/b/b4/The_Sun_by_the_Atmospheric_Imaging_Assembly_of_NASA%27s_Solar_Dynamics_Observatory_-_20100819.jpg/640px-The_Sun_by_the_Atmospheric_Imaging_Assembly_of_NASA%27s_Solar_Dynamics_Observatory_-_20100819.jpg\"\n",
    "download.file(image_url, \"sun.jpg\", mode = \"wb\")\n",
    "img = readJPEG(\"sun.jpg\")\n",
    "\n",
    "image.to.gray = function(image) {\n",
    "  if (length(dim(image)) == 3) {\n",
    "    return(0.299 * image[, , 1] + 0.587 * image[, , 2] + 0.114 * image[, , 3])\n",
    "  } else {\n",
    "    return(image)\n",
    "  }\n",
    "}\n",
    "gray_img = image.to.gray(img)\n",
    "show.image(gray_img)\n",
    "\n",
    "resize_image = function(image_array, target_rows, target_cols) {\n",
    "  current_rows = dim(image_array)[1]\n",
    "  current_cols = dim(image_array)[2]\n",
    "\n",
    "  resized_image = matrix(0, nrow = target_rows, ncol = target_cols)\n",
    "\n",
    "  row_ratio = current_rows / target_rows\n",
    "  col_ratio = current_cols / target_cols\n",
    "\n",
    "  for (r in 1:target_rows) {\n",
    "    for (c in 1:target_cols) {\n",
    "      start_row = floor((r - 1) * row_ratio) + 1\n",
    "      end_row = min(current_rows, floor(r * row_ratio))\n",
    "      start_col = floor((c - 1) * col_ratio) + 1\n",
    "      end_col = min(current_cols, floor(c * col_ratio))\n",
    "\n",
    "      resized_image[r, c] = mean(image_array[start_row:end_row, start_col:end_col])\n",
    "    }\n",
    "  }\n",
    "  return(resized_image)\n",
    "}\n",
    "\n",
    "# Downsample the image to 30x30\n",
    "downsampled_img = resize_image(gray_img, 30, 30)\n",
    "\n",
    "# Denoise the downsampled image\n",
    "denoised_img_np = monotone_denoise_2d(downsampled_img)\n",
    "\n",
    "show.image(downsampled_img)\n",
    "show.image(denoised_img_np)"
   ]
  }
 ],
 "metadata": {
  "kernelspec": {
   "display_name": "R",
   "language": "R",
   "name": "ir"
  },
  "language_info": {
   "codemirror_mode": "r",
   "file_extension": ".r",
   "mimetype": "text/x-r-source",
   "name": "R",
   "pygments_lexer": "r",
   "version": "4.4.0"
  }
 },
 "nbformat": 4,
 "nbformat_minor": 2
}
